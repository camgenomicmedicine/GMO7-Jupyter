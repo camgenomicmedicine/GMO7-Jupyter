{
  "nbformat": 4,
  "nbformat_minor": 0,
  "metadata": {
    "kernelspec": {
      "display_name": "Python 3",
      "language": "python",
      "name": "python3"
    },
    "language_info": {
      "codemirror_mode": {
        "name": "ipython",
        "version": 3
      },
      "file_extension": ".py",
      "mimetype": "text/x-python",
      "name": "python",
      "nbconvert_exporter": "python",
      "pygments_lexer": "ipython3",
      "version": "3.7.1"
    },
    "colab": {
      "name": "homework_A.ipynb",
      "provenance": [],
      "include_colab_link": true
    }
  },
  "cells": [
    {
      "cell_type": "markdown",
      "metadata": {
        "id": "view-in-github",
        "colab_type": "text"
      },
      "source": [
        "<a href=\"https://colab.research.google.com/github/camgenomicmedicine/GMO7-Jupyter/blob/main/homework_A.ipynb\" target=\"_parent\"><img src=\"https://colab.research.google.com/assets/colab-badge.svg\" alt=\"Open In Colab\"/></a>"
      ]
    },
    {
      "cell_type": "markdown",
      "metadata": {
        "id": "tOVYyhIP3QlF"
      },
      "source": [
        "# Homework A: Editing and Saving a Jupyter Notebook\n",
        "\n",
        "Make sure you have worked through workbook A"
      ]
    },
    {
      "cell_type": "code",
      "metadata": {
        "id": "gQxF8oCT3QlI"
      },
      "source": [
        "# Instruction: edit this cell \n",
        "# replacing **** with your name on your next line\n",
        "print('This line will print my name! My name is ****')"
      ],
      "execution_count": null,
      "outputs": []
    },
    {
      "cell_type": "markdown",
      "metadata": {
        "id": "thIsDeAy3QlJ"
      },
      "source": [
        "> ###  saving your work\n",
        ">\n",
        "> As you work through the work book it is important to regularly save your work. Notice that as you have made  changes the Jupyter window top line will warn you there are `(unsaved changes)` in small text. To save your work in this notebook by either select menu item `File` `Save` or by hit the save button:\n",
        "> \n",
        "> ![Jupyter Notebook Save Button|](https://aru-bioinf-ibds.github.io./images/save_button.png)\n",
        ">\n",
        "> \n",
        "> ### Reminder: getting help \n",
        "> Attend the advertised tutorials to get help with your work"
      ]
    },
    {
      "cell_type": "markdown",
      "metadata": {
        "id": "Hh_5_WQZ3QlJ"
      },
      "source": [
        "## Once you have completed this homework\n",
        "Please see VLE page\n",
        "[Reflection on Jupyter notebooks](https://vle.iceonline.cam.ac.uk/course/view.php?id=23122) for what to do next."
      ]
    }
  ]
}