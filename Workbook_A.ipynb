{
  "nbformat": 4,
  "nbformat_minor": 0,
  "metadata": {
    "kernelspec": {
      "display_name": "Python 3",
      "language": "python",
      "name": "python3"
    },
    "language_info": {
      "codemirror_mode": {
        "name": "ipython",
        "version": 3
      },
      "file_extension": ".py",
      "mimetype": "text/x-python",
      "name": "python",
      "nbconvert_exporter": "python",
      "pygments_lexer": "ipython3",
      "version": "3.7.1"
    },
    "colab": {
      "name": "workbook_A.ipynb",
      "provenance": []
    }
  },
  "cells": [
    {
      "cell_type": "markdown",
      "metadata": {
        "id": "BaOPxmOxxFME"
      },
      "source": [
        "# Workbook A: Introducing Jupyter Notebooks\n",
        "Jupyter Notebook is an \"open-source web application that allows you to create and share documents that contain live code, equations, visualizations and narrative text\" (http://jupyter.org/). Juypter notebooks are really useful for scientists because they make \"data analysis easier to record, understand and reproduce\" as explained in this [Nature Article: *Interactive notebooks: Sharing the code*](http://doi.org/10.1038/515151a). Note that the article discusses Juypter Notebooks using their original name \"IPython Notebooks\". I use Jupyter Notebook in my research, for instance including \n",
        "[a notebook](https://doi.org/10.1107/S2059798318002541/ba5278sup3.html) as part of a [Research Paper](https://doi.org/10.1107/S2059798318002541). \n",
        "\n",
        "This document is itself a *Jupyter notebook* and it consists of:\n",
        "\n",
        "* text cells (like the one you are reading now)\n",
        "* and code cells (like the next cell) that contain Python code.\n",
        "\n",
        "You should be working with this document in a modern web browser (like Chrome, Edge, Safari), using \n",
        "either \n",
        "[Google Colab](https://colab.research.google.com/)\n",
        "or a local \n",
        "[Jupyter Notebook](http://jupyter.org/) \n",
        "installation, so that you can  run the code and edit the code in cells."
      ]
    },
    {
      "cell_type": "markdown",
      "metadata": {
        "collapsed": true,
        "id": "kl_M_wH1xFMH"
      },
      "source": [
        "## Running Python code cells\n",
        "\n",
        "In a Notebook to run a code cell either click on the Run cell button in the menu above: \n",
        "\n",
        "![Jupyter Notebook Run Button >|](https://aru-bioinf-ibds.github.io./images/run_button.png)\n",
        "\n",
        "or you can use the `Ctrl` + `Enter` keyboard short cut.  In Google Colab the run button is on the left of the code cell:\n",
        "\n",
        "```\n",
        "TODO add image of Colab run button\n",
        "```\n",
        "\n",
        "The code in the next cell prints `Hello World` the traditional first step in learning any Programming Language. \n",
        "\n",
        "**Instruction:** Run the cell below by clicking on the cell to select it and then hitting the run button."
      ]
    },
    {
      "cell_type": "code",
      "metadata": {
        "id": "86JrZfjVxFMI"
      },
      "source": [
        "# Instruction: run this cell!\n",
        "print('Hello world')"
      ],
      "execution_count": null,
      "outputs": []
    },
    {
      "cell_type": "markdown",
      "metadata": {
        "id": "wde9vOUTxFMK"
      },
      "source": [
        "This should print out `Hello world` if it does not ask for help."
      ]
    },
    {
      "cell_type": "markdown",
      "metadata": {
        "id": "nVQXsVTpxFML"
      },
      "source": [
        "## Editing Python code cells\n",
        "\n",
        "We have started with the traditonal first thing you do when trying out any new computer programming language printing `Hello world`. Now lets do the traditional second thing and `Hello your_name`.\n",
        "\n",
        "Jupyter Notebooks are interactive so you can edit the code in them.\n",
        "\n",
        "Try this in the next cell by clicking on it and altering the text in the print() statement"
      ]
    },
    {
      "cell_type": "code",
      "metadata": {
        "id": "MH2tCHvFxFML"
      },
      "source": [
        "# Instruction: first run this cell then edit it to \n",
        "#              print your name instead of ????\n",
        "print('My name is ????')"
      ],
      "execution_count": null,
      "outputs": []
    },
    {
      "cell_type": "markdown",
      "metadata": {
        "collapsed": true,
        "id": "WjWrXuGkxFML"
      },
      "source": [
        "Try writing some python code in the next code cell.\n",
        "\n",
        "**Instruction:** Add python code to print out the name of your favourite species in the next code cell and run it using the `Ctrl` + `Enter` keyboard short cut. "
      ]
    },
    {
      "cell_type": "markdown",
      "metadata": {
        "id": "2H6M0LNgxFMM"
      },
      "source": [
        "## Saving your work\n",
        "\n",
        "As you work through the work book it is important to regularly save your work. Notice that as you have made changes the jupyter window top line will warn you there are `(unsaved changes)` in small text.\n",
        "\n",
        "**Instruction:** Save your work in this notebook by either selecting menu item `File` `Save` or by hitting the save button:\n",
        "\n",
        "![Jupyter Notebook Save Button|](https://aru-bioinf-ibds.github.io./images/save_button.png)\n",
        "\n",
        "You should notice the `(unsaved changes)` message disappears from the top of the window."
      ]
    },
    {
      "cell_type": "markdown",
      "metadata": {
        "collapsed": true,
        "id": "ddYQLYLIxFMM"
      },
      "source": [
        "# Looking at what can be done with Python and Jupyter notebooks\n",
        "\n",
        "Now lets have a look at the kind of things can be done with Python. Do not worry about understanding any of the code! The idea is show that Python can be used for some interesting stuff."
      ]
    },
    {
      "cell_type": "markdown",
      "metadata": {
        "id": "14T9Gq65xFMN"
      },
      "source": [
        "<hr>\n",
        "\n",
        "### Interactive quiz\n",
        "\n",
        "* run the cell below. It will prompt you for answers at the bottom of the cell"
      ]
    },
    {
      "cell_type": "code",
      "metadata": {
        "id": "Cq2LIGhWxFMN"
      },
      "source": [
        "# This is a little interactive quiz\n",
        "correct = 'rhino'\n",
        "clues = ['It is grey.', 'It has a horn.', 'It is never seen in Cambridge',\n",
        "         'There are five species White, Black, Javan, Sumatran and Indian',\n",
        "         'Name starts with \"R\"', 'Name ends with \"O\"',\n",
        "         'Was the subject of a famous print by Albrecht Dürer']\n",
        "while(clues):\n",
        "    answer = input(\"What animal is Anglia Ruskin's mascot?> \")\n",
        "    answer = answer.lower()\n",
        "    if answer == correct:\n",
        "        print('Well done!', correct.capitalize(), 'is the correct answer.')\n",
        "        break;\n",
        "    else:\n",
        "        clue = clues.pop(0) # remove the first clue\n",
        "        print('Wrong! Here is a clue: \"' + clue + '\". Try again!')\n",
        "if not clues:\n",
        "    print('Sorry GAME OVER to many trys!')\n",
        "    print('The answer is', correct.upper() + '!')\n"
      ],
      "execution_count": null,
      "outputs": []
    },
    {
      "cell_type": "markdown",
      "metadata": {
        "id": "AJj4pIsAxFMN"
      },
      "source": [
        "<hr>\n",
        "\n",
        "### Python to display an image from the web in Jupyter Notebook\n",
        "\n",
        "* Make sure that you have completed the interactive quiz in the previous cell - if it is still running the next cell will wait.\n",
        "* run the next cell - It will display a famous picture of a Rhino by Albrecht Dürer, see https://en.wikipedia.org/wiki/D%C3%BCrer%27s_Rhinoceros"
      ]
    },
    {
      "cell_type": "code",
      "metadata": {
        "id": "Cv80zZaTxFMO"
      },
      "source": [
        "# you can get images from the web in Python and display them\n",
        "from IPython.display import Image\n",
        "from IPython.core.display import HTML\n",
        "durer_rhino_url = 'https://upload.wikimedia.org/wikipedia/commons/thumb/b/bc/' \\\n",
        "                  'The_Rhinoceros_%28NGA_1964.8.697%29_enhanced.png/' \\\n",
        "                  '304px-The_Rhinoceros_%28NGA_1964.8.697%29_enhanced.png'\n",
        "Image(url= durer_rhino_url)"
      ],
      "execution_count": null,
      "outputs": []
    },
    {
      "cell_type": "markdown",
      "metadata": {
        "id": "4Z9bWqggxFMO"
      },
      "source": [
        "You can do loads of things using Jupyter Notebooks. For instance\n",
        "* plotting a graph\n",
        "* looking up the local weather from a web source.\n",
        "* running a bioinformatics pipeline\n",
        "* performing statistical analysis in R\n",
        "* using a machine learning algorithm"
      ]
    },
    {
      "cell_type": "markdown",
      "metadata": {
        "id": "rKYtZG9UxFMO"
      },
      "source": [
        "## Homework A: Editing and Saving a Jupyter Notebook.\n",
        "Now open the homework A notebook (using the same method you used for this Notebook)."
      ]
    }
  ]
}
