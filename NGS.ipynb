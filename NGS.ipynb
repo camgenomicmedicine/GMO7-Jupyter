{
  "nbformat": 4,
  "nbformat_minor": 0,
  "metadata": {
    "colab": {
      "name": "NGS.ipynb",
      "provenance": [],
      "collapsed_sections": [],
      "authorship_tag": "ABX9TyOUntBEpGGHvEaiSP+ASXKC",
      "include_colab_link": true
    },
    "kernelspec": {
      "name": "python3",
      "display_name": "Python 3"
    },
    "language_info": {
      "name": "python"
    }
  },
  "cells": [
    {
      "cell_type": "markdown",
      "metadata": {
        "id": "view-in-github",
        "colab_type": "text"
      },
      "source": [
        "<a href=\"https://colab.research.google.com/github/camgenomicmedicine/GMO7-Jupyter/blob/main/NGS.ipynb\" target=\"_parent\"><img src=\"https://colab.research.google.com/assets/colab-badge.svg\" alt=\"Open In Colab\"/></a>"
      ]
    },
    {
      "cell_type": "markdown",
      "metadata": {
        "id": "hK3xk9kqIDCt"
      },
      "source": [
        "When you start a colab session you are starting a new virtual machine. If we want to use notebooks for reproducbile research we need to be able to set up all the programs and import all the data we need for our analysis each time we begin. This might seem like a lot of work - but it is worth doing. Why? Because it makes our research reproducible. There are a couple of things we can do"
      ]
    },
    {
      "cell_type": "code",
      "metadata": {
        "cellView": "form",
        "id": "t8oVhrJBG2YD"
      },
      "source": [
        "#@title Set up conda on notebook\n",
        "%%capture\n",
        "! wget https://repo.anaconda.com/miniconda/Miniconda3-py37_4.8.2-Linux-x86_64.sh \n",
        "! chmod +x Miniconda3-py37_4.8.2-Linux-x86_64.sh \n",
        "! bash ./Miniconda3-py37_4.8.2-Linux-x86_64.sh -b -f -p /usr/local \n",
        "import sys \n",
        "sys.path.append('/usr/local/lib/python3.7/site-packages/')\n"
      ],
      "execution_count": null,
      "outputs": []
    },
    {
      "cell_type": "code",
      "metadata": {
        "cellView": "form",
        "id": "HtIjSuZlFbyZ"
      },
      "source": [
        "#@title Install the programs you need\n",
        "%%capture\n",
        "# FastQC is a program designed to spot potential problems in high throughput sequencing datasets. \n",
        "!conda install -c bioconda fastqc -y\n",
        "# Multiqc can aggregate and summarize all the QC data and alignment log data in one file \n",
        "!pip install multiqc\n",
        "# Trimmomatic: A flexible read trimming tool for Illumina NGS data \n",
        "! conda install -c bioconda trimmomatic -y\n",
        "# Kallisto is a program for quantifying abundances of transcripts from RNA-Seq data, or more generally of target sequences using high-throughput sequencing reads \n",
        "! conda install -c bioconda kallisto -y"
      ],
      "execution_count": null,
      "outputs": []
    },
    {
      "cell_type": "code",
      "metadata": {
        "id": "HCnOpYdjGNza"
      },
      "source": [
        "# get the link to all files from SRA Explorer \n",
        "!curl -L ftp://ftp.sra.ebi.ac.uk/vol1/fastq/SRRXXX/006/SRR8668XXX/SRR8668XXX.fastq.gz -o SRR8668XXX\\_GSM3639XXX\\_skin\\_HS2\\_Homo\\_sapiens\\_RNA-Seq.fastq.gz"
      ],
      "execution_count": null,
      "outputs": []
    },
    {
      "cell_type": "code",
      "metadata": {
        "id": "QNjDXByPGR9i"
      },
      "source": [
        "# Pre-alignment QA \n",
        "!fastqc \\*.fastq.gz\n",
        "# Trimming \n",
        "!trimmomatic PE -phred33 R1.fastq R2.fastq R1\\_paired.fq.gz R1\\_unpaired.fq.gz R2\\_paired.fq.gz R2\\_unpaired.fq.gz ILLUMINACLIP:contams\\_forward\\_rev.fa:2:30:10 LEADING:3 TRAILING:3 SLIDINGWINDOW:4:15 MINLEN:36\n",
        "# Pre-alignment Multiqc summary file \n",
        "!multiqc .\n",
        "## alignment \n",
        "!kallisto quant -i index -o output pairA\\_1.fastq pairA\\_2.fastq"
      ],
      "execution_count": null,
      "outputs": []
    },
    {
      "cell_type": "code",
      "metadata": {
        "id": "F9oeOKI4GZwZ"
      },
      "source": [
        "# create a zip file from multiqc folder and download it to your local drive \n",
        "!zip -r ./<zipFileName>.zip <directoryPath>"
      ],
      "execution_count": null,
      "outputs": []
    }
  ]
}